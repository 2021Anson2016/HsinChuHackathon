{
 "cells": [
  {
   "cell_type": "code",
   "execution_count": 1,
   "metadata": {
    "scrolled": true
   },
   "outputs": [
    {
     "data": {
      "text/plain": [
       "<td class=\"fontWrap\"><span class=\"ftcolor1\">61.2萬</span><br/>\n",
       "<span>(扣除車位價及車坪)</span>\n",
       "</td>"
      ]
     },
     "execution_count": 1,
     "metadata": {},
     "output_type": "execute_result"
    }
   ],
   "source": [
    "import requests\n",
    "from bs4 import BeautifulSoup\n",
    "import json\n",
    "import pandas as pd\n",
    "import numpy as np\n",
    "import matplotlib.pyplot as plt\n",
    "%matplotlib inline\n",
    "import seaborn as sns\n",
    "headers = {\n",
    "'User-Agent': 'Mozilla/5.0 (Windows NT 10.0; Win64; x64) AppleWebKit/537.36 (KHTML, like Gecko) Chrome/62.0.3202.94 Safari/537.36',\n",
    "}\n",
    "url = 'http://tradeinfo.sinyi.com.tw/metro/stationDetail.html?m=16'\n",
    "res = requests.get(url,headers=headers)\n",
    "soup = BeautifulSoup(res.text,'html.parser')\n",
    "soup.select('.infoNew')[0].select('table')[0].select('tr')[3].select('td')[4]"
   ]
  },
  {
   "cell_type": "code",
   "execution_count": 2,
   "metadata": {
    "scrolled": false
   },
   "outputs": [],
   "source": [
    "res = requests.get('http://tradeinfo.sinyi.com.tw/metro/json/2016.json')\n",
    "st_list = []\n",
    "price_list = []\n",
    "for data_dict in res.json():\n",
    "    st_list.append(data_dict['station'])\n",
    "    price_list.append(data_dict['price'])\n",
    "house_price = pd.DataFrame({'station':st_list,'price':price_list})[['station','price']]\n",
    "house_price.to_csv('C:/users/chuboy/desktop/tpe_house.csv',index=0)"
   ]
  },
  {
   "cell_type": "code",
   "execution_count": 38,
   "metadata": {},
   "outputs": [
    {
     "ename": "ImportError",
     "evalue": "cannot import name 'read_pdf'",
     "output_type": "error",
     "traceback": [
      "\u001b[1;31m---------------------------------------------------------------------------\u001b[0m",
      "\u001b[1;31mImportError\u001b[0m                               Traceback (most recent call last)",
      "\u001b[1;32m<ipython-input-38-42ea399ed79d>\u001b[0m in \u001b[0;36m<module>\u001b[1;34m()\u001b[0m\n\u001b[1;32m----> 1\u001b[1;33m \u001b[1;32mfrom\u001b[0m \u001b[0mtabula\u001b[0m \u001b[1;32mimport\u001b[0m \u001b[0mread_pdf\u001b[0m\u001b[1;33m\u001b[0m\u001b[0m\n\u001b[0m\u001b[0;32m      2\u001b[0m \u001b[0mmrt_df\u001b[0m \u001b[1;33m=\u001b[0m \u001b[0mpd\u001b[0m\u001b[1;33m.\u001b[0m\u001b[0mDataFrame\u001b[0m\u001b[1;33m(\u001b[0m\u001b[0mcolumns\u001b[0m\u001b[1;33m=\u001b[0m\u001b[1;33m[\u001b[0m\u001b[1;34m'date'\u001b[0m\u001b[1;33m,\u001b[0m\u001b[1;34m'weekday'\u001b[0m\u001b[1;33m,\u001b[0m\u001b[1;34m'vol'\u001b[0m\u001b[1;33m]\u001b[0m\u001b[1;33m)\u001b[0m\u001b[1;33m\u001b[0m\u001b[0m\n\u001b[0;32m      3\u001b[0m url_list = [\n\u001b[0;32m      4\u001b[0m \u001b[1;34m'https://www.tymetro.com.tw/upload/cht/attachment/16a6106a23720a7282c965a45e4c31c9.pdf'\u001b[0m\u001b[1;33m,\u001b[0m\u001b[1;33m\u001b[0m\u001b[0m\n\u001b[0;32m      5\u001b[0m \u001b[1;34m'https://www.tymetro.com.tw/upload/cht/attachment/00a72886639a23819c4611466048ab85.pdf'\u001b[0m\u001b[1;33m,\u001b[0m\u001b[1;33m\u001b[0m\u001b[0m\n",
      "\u001b[1;31mImportError\u001b[0m: cannot import name 'read_pdf'"
     ]
    }
   ],
   "source": [
    "from tabula import read_pdf\n",
    "mrt_df = pd.DataFrame(columns=['date','weekday','vol'])\n",
    "url_list = [\n",
    "'https://www.tymetro.com.tw/upload/cht/attachment/16a6106a23720a7282c965a45e4c31c9.pdf',\n",
    "'https://www.tymetro.com.tw/upload/cht/attachment/00a72886639a23819c4611466048ab85.pdf',\n",
    "'https://www.tymetro.com.tw/upload/cht/attachment/8b6c650033e3b4e8ff92904c2a9732d6.pdf',\n",
    "'https://www.tymetro.com.tw/upload/cht/attachment/a26efaee6d928eac65d60aecf1e78621.pdf',\n",
    "'https://www.tymetro.com.tw/upload/cht/attachment/040bf7382548b7315a15770fe08cfa09.pdf',\n",
    "'https://www.tymetro.com.tw/upload/cht/attachment/97c3c158ee4372c5935fa1295b5db62c.pdf',\n",
    "'https://www.tymetro.com.tw/upload/cht/attachment/8684dee179fdb60945a9cb0021ed6f2d.pdf'\n",
    "]\n",
    "for url in url_list:\n",
    "    pdf = read_pdf(url,encoding = 'big5', spreadsheet = True, pages = '1')\n",
    "    df = pdf[:-2]\n",
    "    df.columns = ['date','weekday','vol']\n",
    "    df['year'] = '2017'\n",
    "    df['month'] = df.date.str.extract(r'(\\d)月')\n",
    "    df['day'] = df.date.str.extract(r'(\\d+)日')\n",
    "    df.date = df.year+df.month+df.day\n",
    "    df.date = pd.to_datetime(df.date,format='%Y%m%d')\n",
    "    df.weekday = df.date.apply(lambda x:x.weekday()+1)\n",
    "    df = df[['date','weekday','vol']]\n",
    "    mrt_df = mrt_df.append(df)\n",
    "mrt_df.to_csv('C:/users/chuboy/desktop/MRT/tyu_metro.csv',index=0)    "
   ]
  },
  {
   "cell_type": "code",
   "execution_count": 247,
   "metadata": {},
   "outputs": [],
   "source": [
    "import ezodf\n",
    "def read_ods(filename, sheet_no=0, header=0):\n",
    "    tab = ezodf.opendoc(filename=filename).sheets[sheet_no]\n",
    "    return pd.DataFrame({col[header].value:[x.value for x in col[header+1:]]\n",
    "                         for col in tab.columns()})\n",
    "mrt_df = pd.DataFrame(columns=['station','date','weekday','vol'])\n",
    "for month in range(3,10):\n",
    "    df = read_ods('C:/users/chuboy/desktop/MRT/20170'+str(month)+'_cht.ods')\n",
    "    df = df.dropna(how='all').T.dropna(how='all')\n",
    "    df = df[1:]\n",
    "    df['st'] = df.index\n",
    "    df = pd.melt(df,id_vars=['st'])\n",
    "    \n",
    "    df.columns = ['station','day','vol']\n",
    "    df.day = df.day.apply(lambda x:x+1).astype(str)\n",
    "    df['month'] = str(month)\n",
    "    df['year'] = '2017'\n",
    "    df['date'] = df.year+df.month+df.day\n",
    "    df.date = pd.to_datetime(df.date,format='%Y%m%d')\n",
    "    df['weekday'] = df.date.apply(lambda x:x.weekday()+1)\n",
    "    df = df[['station','date','weekday','vol']]\n",
    "    mrt_df = mrt_df.append(df)\n",
    "#mrt_df.to_csv('C:/users/chuboy/desktop/MRT/tpe_metro.csv',index=0)"
   ]
  },
  {
   "cell_type": "code",
   "execution_count": 51,
   "metadata": {},
   "outputs": [
    {
     "data": {
      "text/html": [
       "<div>\n",
       "<style scoped>\n",
       "    .dataframe tbody tr th:only-of-type {\n",
       "        vertical-align: middle;\n",
       "    }\n",
       "\n",
       "    .dataframe tbody tr th {\n",
       "        vertical-align: top;\n",
       "    }\n",
       "\n",
       "    .dataframe thead th {\n",
       "        text-align: right;\n",
       "    }\n",
       "</style>\n",
       "<table border=\"1\" class=\"dataframe\">\n",
       "  <thead>\n",
       "    <tr style=\"text-align: right;\">\n",
       "      <th></th>\n",
       "      <th>date</th>\n",
       "      <th>in</th>\n",
       "      <th>out</th>\n",
       "      <th>inout</th>\n",
       "      <th>outin</th>\n",
       "      <th>intr</th>\n",
       "      <th>outtr</th>\n",
       "    </tr>\n",
       "  </thead>\n",
       "  <tbody>\n",
       "    <tr>\n",
       "      <th>1</th>\n",
       "      <td>2017-03-01</td>\n",
       "      <td>61154</td>\n",
       "      <td>43285</td>\n",
       "      <td>533</td>\n",
       "      <td>849</td>\n",
       "      <td>5618</td>\n",
       "      <td>5579</td>\n",
       "    </tr>\n",
       "    <tr>\n",
       "      <th>2</th>\n",
       "      <td>2017-03-02</td>\n",
       "      <td>55779</td>\n",
       "      <td>41330</td>\n",
       "      <td>1273</td>\n",
       "      <td>1029</td>\n",
       "      <td>6779</td>\n",
       "      <td>6975</td>\n",
       "    </tr>\n",
       "    <tr>\n",
       "      <th>3</th>\n",
       "      <td>2017-03-03</td>\n",
       "      <td>54756</td>\n",
       "      <td>41111</td>\n",
       "      <td>1036</td>\n",
       "      <td>1170</td>\n",
       "      <td>6775</td>\n",
       "      <td>7173</td>\n",
       "    </tr>\n",
       "    <tr>\n",
       "      <th>4</th>\n",
       "      <td>2017-03-04</td>\n",
       "      <td>52798</td>\n",
       "      <td>42399</td>\n",
       "      <td>898</td>\n",
       "      <td>1120</td>\n",
       "      <td>6424</td>\n",
       "      <td>6697</td>\n",
       "    </tr>\n",
       "    <tr>\n",
       "      <th>5</th>\n",
       "      <td>2017-03-05</td>\n",
       "      <td>57764</td>\n",
       "      <td>51822</td>\n",
       "      <td>724</td>\n",
       "      <td>764</td>\n",
       "      <td>5631</td>\n",
       "      <td>6782</td>\n",
       "    </tr>\n",
       "  </tbody>\n",
       "</table>\n",
       "</div>"
      ],
      "text/plain": [
       "        date     in    out inout outin  intr outtr\n",
       "1 2017-03-01  61154  43285   533   849  5618  5579\n",
       "2 2017-03-02  55779  41330  1273  1029  6779  6975\n",
       "3 2017-03-03  54756  41111  1036  1170  6775  7173\n",
       "4 2017-03-04  52798  42399   898  1120  6424  6697\n",
       "5 2017-03-05  57764  51822   724   764  5631  6782"
      ]
     },
     "execution_count": 51,
     "metadata": {},
     "output_type": "execute_result"
    }
   ],
   "source": [
    "airport = pd.DataFrame(columns=['date','in','out','inout','outin','intr','outtr'])\n",
    "for month in range(3,10):\n",
    "    ap = pd.read_html('C:/users/chuboy/desktop/MRT/20170'+str(month)+'.htm')[0].iloc[1:-1,[0,1,4,7,10,13,16]]\n",
    "    #ap.columns = ['date','入境','出境','入境過境','出境過境','入境轉機','出境轉機']\n",
    "    ap.columns = ['date','in','out','inout','outin','intr','outtr']\n",
    "    ap.date = pd.to_datetime(ap.date,format='%Y%m%d')\n",
    "    airport = airport.append(ap)\n",
    "airport.to_csv('C:/users/chuboy/desktop/MRT/airport.csv',index=0)    \n",
    "airport.head()"
   ]
  },
  {
   "cell_type": "code",
   "execution_count": null,
   "metadata": {},
   "outputs": [],
   "source": [
    "import pandas as pd\n",
    "url_list = [\n",
    "'http://web.metro.taipei/RidershipCounts/c/8504.htm',\n",
    "'http://web.metro.taipei/RidershipCounts/c/8505.htm',\n",
    "'http://web.metro.taipei/RidershipCounts/c/8505.htm',\n",
    "'http://web.metro.taipei/RidershipCounts/c/8506.htm',\n",
    "'http://web.metro.taipei/RidershipCounts/c/8507.htm',\n",
    "'http://web.metro.taipei/RidershipCounts/c/8508.htm',\n",
    "'http://web.metro.taipei/RidershipCounts/c/8509.htm',\n",
    "'http://web.metro.taipei/RidershipCounts/c/8510.htm',\n",
    "'http://web.metro.taipei/RidershipCounts/c/8511.htm',\n",
    "'http://web.metro.taipei/RidershipCounts/c/8512.htm',\n",
    "'http://web.metro.taipei/RidershipCounts/c/8601.htm',\n",
    "'http://web.metro.taipei/RidershipCounts/c/8602.htm',\n",
    "'http://web.metro.taipei/RidershipCounts/c/8603.htm',\n",
    "]\n",
    "#木柵線通車\n",
    "df = pd.DataFrame(columns=['營運日','星期','總運量'])\n",
    "for u in url_list:\n",
    "    temp = pd.read_html(u)[0].iloc[2:,].dropna()\n",
    "    df = df.append(temp)\n",
    "df = df.T.dropna().T\n",
    "df.columns=['營運日','星期','總運量']\n",
    "df.to_csv('C:/users/chuboy/desktop/木柵線通車.csv',index=0,encoding='big5')\n",
    "df.head()"
   ]
  }
 ],
 "metadata": {
  "kernelspec": {
   "display_name": "Python 3",
   "language": "python",
   "name": "python3"
  },
  "language_info": {
   "codemirror_mode": {
    "name": "ipython",
    "version": 3
   },
   "file_extension": ".py",
   "mimetype": "text/x-python",
   "name": "python",
   "nbconvert_exporter": "python",
   "pygments_lexer": "ipython3",
   "version": "3.6.3"
  }
 },
 "nbformat": 4,
 "nbformat_minor": 2
}
